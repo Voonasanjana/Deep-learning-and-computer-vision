{
 "cells": [
  {
   "cell_type": "markdown",
   "metadata": {},
   "source": [
    "# TEXT SIMPLE"
   ]
  },
  {
   "cell_type": "code",
   "execution_count": null,
   "metadata": {},
   "outputs": [],
   "source": [
    "import cv2\n",
    "import pytesseract\n",
    "pytesseract.pytesseract.tesseract_cmd = \"C:\\\\Program Files\\\\Tesseract-OCR\\\\tesseract.exe\"\n"
   ]
  },
  {
   "cell_type": "code",
   "execution_count": null,
   "metadata": {},
   "outputs": [],
   "source": [
    "    import cv2\n",
    "    import pytesseract\n",
    "    import numpy as np\n",
    "    from PIL import ImageGrab\n",
    "    import time\n",
    "\n",
    "\n",
    "    pytesseract.pytesseract.tesseract_cmd = \"C:\\\\Program Files\\\\Tesseract-OCR\\\\tesseract.exe\"\n",
    "    img = cv2.imread(r\"C:\\Users\\ASUS\\Desktop\\Screenshot (64).png\")\n",
    "    img = cv2.cvtColor(img, cv2.COLOR_BGR2RGB)\n",
    "    cv2.imshow('RESULT',img)\n",
    "    #pytesseract\n",
    "    ##############################################\n",
    "    ##### Image to String   ######\n",
    "    ##############################################\n",
    "    print(pytesseract.image_to_string(img))\n",
    "\n",
    "    #############################################\n",
    "    #### Detecting Characters  ######\n",
    "    #############################################\n",
    "    hImg, wImg,_ = img.shape\n",
    "    boxes = pytesseract.image_to_boxes(img)\n",
    "    for b in boxes.splitlines():\n",
    "        print(b)\n",
    "        b = b.split(' ')\n",
    "        print(b)\n",
    "        x, y, w, h = int(b[1]), int(b[2]), int(b[3]), int(b[4])\n",
    "        cv2.rectangle(img, (x,hImg- y), (w,hImg- h), (50, 50, 255), 2)\n",
    "        cv2.putText(img,b[0],(x,hImg- y+25),cv2.FONT_HERSHEY_SIMPLEX,1,(50,50,255),2)\n",
    "\n",
    "\n",
    "    cv2.imshow('img', img)\n",
    "    cv2.waitKey(0)\n"
   ]
  },
  {
   "cell_type": "code",
   "execution_count": null,
   "metadata": {},
   "outputs": [],
   "source": [
    "    import cv2\n",
    "    import pytesseract\n",
    "    import numpy as np\n",
    "    from PIL import ImageGrab\n",
    "    import time\n",
    "\n",
    "\n",
    "    pytesseract.pytesseract.tesseract_cmd = 'C:\\\\Program Files\\\\Tesseract-OCR\\\\tesseract.exe'\n",
    "    img = cv2.imread(r\"C:\\Users\\ASUS\\Desktop\\Screenshot (64).png\")\n",
    "    img = cv2.cvtColor(img, cv2.COLOR_BGR2RGB)\n",
    "\n",
    "##############################################\n",
    "##### Detecting Words  ######\n",
    "##############################################\n",
    " #[   0          1           2           3           4          5         6       7       8        9        10       11 ]\n",
    "# #['level', 'page_num', 'block_num', 'par_num', 'line_num', 'word_num', 'left', 'top', 'width', 'height', 'conf', 'text']\n",
    "    boxes = pytesseract.image_to_data(img)\n",
    "    for a,b in enumerate(boxes.splitlines()):\n",
    "        print(b)\n",
    "        if a!=0:\n",
    "            b = b.split()\n",
    "            if len(b)==12:\n",
    "                x,y,w,h = int(b[6]),int(b[7]),int(b[8]),int(b[9])\n",
    "                cv2.putText(img,b[11],(x,y-5),cv2.FONT_HERSHEY_SIMPLEX,1,(50,50,255),2)\n",
    "                cv2.rectangle(img, (x,y), (x+w, y+h), (50, 50, 255), 2)\n",
    "                \n",
    "    cv2.imshow('img', img)\n",
    "    cv2.waitKey(0)             "
   ]
  },
  {
   "cell_type": "code",
   "execution_count": null,
   "metadata": {},
   "outputs": [],
   "source": [
    "##############################################\n",
    "##### Detecting ONLY Digits  ######\n",
    "##############################################\n",
    "    hImg, wImg,_ = img.shape\n",
    "    conf = r'--oem 3 --psm 6 outputbase digits'\n",
    "    boxes = pytesseract.image_to_boxes(img,config=conf)\n",
    "    for b in boxes.splitlines():\n",
    "        print(b)\n",
    "        b = b.split(' ')\n",
    "        print(b)\n",
    "        x, y, w, h = int(b[1]), int(b[2]), int(b[3]), int(b[4])\n",
    "        cv2.rectangle(img, (x,hImg- y), (w,hImg- h), (50, 50, 255), 2)\n",
    "        cv2.putText(img,b[0],(x,hImg- y+25),cv2.FONT_HERSHEY_SIMPLEX,1,(50,50,255),2)\n",
    "    cv2.imshow('img', img)\n",
    "    cv2.waitKey(0)"
   ]
  },
  {
   "cell_type": "code",
   "execution_count": null,
   "metadata": {},
   "outputs": [],
   "source": [
    "##############################################\n",
    "##### Webcam and Screen Capture Example ######\n",
    "##############################################\n",
    "        import cv2\n",
    "\n",
    "        cap = cv2.VideoCapture(0)\n",
    "        cap.set(3,640)\n",
    "        cap.set(4,480)\n",
    "        def captureScreen(bbox=(300,300,1500,1000)):\n",
    "            capScr = np.array(ImageGrab.grab(bbox))\n",
    "            capScr = cv2.cvtColor(capScr, cv2.COLOR_RGB2BGR)\n",
    "            return capScr\n",
    "        while True:\n",
    "            timer = cv2.getTickCount()\n",
    "            _,img = cap.read()\n",
    "            #img = captureScreen()\n",
    "            #DETECTING CHARACTERES\n",
    "            hImg, wImg,_ = img.shape\n",
    "            boxes = pytesseract.image_to_boxes(img)\n",
    "            for b in boxes.splitlines():\n",
    "                #print(b)\n",
    "                b = b.split(' ')\n",
    "                #print(b)\n",
    "                x, y, w, h = int(b[1]), int(b[2]), int(b[3]), int(b[4])\n",
    "                cv2.rectangle(img, (x,hImg- y), (w,hImg- h), (50, 50, 255), 2)\n",
    "                cv2.putText(img,b[0],(x,hImg- y+25),cv2.FONT_HERSHEY_SIMPLEX,1,(50,50,255),2)\n",
    "            fps = cv2.getTickFrequency() / (cv2.getTickCount() - timer);\n",
    "            #cv2.putText(img, str(int(fps)), (75, 40), cv2.FONT_HERSHEY_SIMPLEX, 0.7, (20,230,20), 2);\n",
    "            cv2.imshow(\"Result\",img)\n",
    "            cv2.waitKey(1)\n",
    "\n",
    "\n",
    "\n",
    "        cv2.imshow('img', img)\n",
    "        cv2.waitKey(0)"
   ]
  },
  {
   "cell_type": "code",
   "execution_count": null,
   "metadata": {},
   "outputs": [],
   "source": []
  }
 ],
 "metadata": {
  "kernelspec": {
   "display_name": "Python 3",
   "language": "python",
   "name": "python3"
  },
  "language_info": {
   "codemirror_mode": {
    "name": "ipython",
    "version": 3
   },
   "file_extension": ".py",
   "mimetype": "text/x-python",
   "name": "python",
   "nbconvert_exporter": "python",
   "pygments_lexer": "ipython3",
   "version": "3.6.10"
  }
 },
 "nbformat": 4,
 "nbformat_minor": 4
}
